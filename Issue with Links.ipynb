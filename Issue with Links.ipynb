{
 "cells": [
  {
   "cell_type": "code",
   "execution_count": 1,
   "metadata": {},
   "outputs": [],
   "source": [
    "import os\n",
    "import json\n",
    "import requests\n",
    "import utils"
   ]
  },
  {
   "cell_type": "code",
   "execution_count": 2,
   "metadata": {},
   "outputs": [],
   "source": [
    "client_id = utils.get_imgur_client_id()"
   ]
  },
  {
   "cell_type": "markdown",
   "metadata": {},
   "source": [
    "## Function: build_link_list\n",
    "\n",
    "The following code downloaded only 100 images during execution."
   ]
  },
  {
   "cell_type": "markdown",
   "metadata": {},
   "source": [
    "### Previous Function"
   ]
  },
  {
   "cell_type": "code",
   "execution_count": null,
   "metadata": {},
   "outputs": [],
   "source": [
    "def build_link_list(client_id, num_of_images):\n",
    "    \"\"\"\n",
    "    builds a list of image links.\n",
    "    \"\"\"\n",
    "    cnt = 0\n",
    "    url_list = []\n",
    "\n",
    "    try:\n",
    "        while(cnt < num_of_images):\n",
    "            i = 1\n",
    "            response = requests.get(\n",
    "                f'https://api.imgur.com/3/gallery/r/nature/{i}', \n",
    "                headers={'Authorization': f'Client-ID {client_id}'},\n",
    "                stream=True\n",
    "            )\n",
    "\n",
    "            if response.status_code == 200:\n",
    "                data_list = json.loads(response.content)['data']\n",
    "                url_list.extend([\n",
    "                    i['link']\n",
    "                    for i in data_list \n",
    "                    if 'type' in i and \n",
    "                    i['type'] in ('image/png', 'image/jpeg')\n",
    "                ])\n",
    "                cnt += len(url_list)\n",
    "                i += 1\n",
    "    except:\n",
    "        print('api limit reached!')\n",
    "        \n",
    "    \n",
    "    return url_list"
   ]
  },
  {
   "cell_type": "markdown",
   "metadata": {},
   "source": [
    "### After review"
   ]
  },
  {
   "cell_type": "code",
   "execution_count": 3,
   "metadata": {},
   "outputs": [],
   "source": [
    "i = 1\n",
    "cnt = 0\n",
    "url_list = []\n",
    "url_list_len = []\n",
    "num_of_images = 1000\n",
    "\n",
    "while(cnt < num_of_images):\n",
    "    # get request\n",
    "    response = requests.get(\n",
    "        f'https://api.imgur.com/3/gallery/random/random/{i}', \n",
    "        headers={'Authorization': f'Client-ID {client_id}'},\n",
    "        stream=True\n",
    "    )\n",
    "    \n",
    "    # control\n",
    "    if response.status_code == 200:\n",
    "        data_list = json.loads(response.content)['data']\n",
    "        url_list.extend([\n",
    "            i['link']\n",
    "            for i in data_list \n",
    "            if 'type' in i \n",
    "            and i['type'] in ('image/png', 'image/jpeg')\n",
    "            and i['link'] not in url_list\n",
    "        ])\n",
    "\n",
    "        cnt = len(url_list)\n",
    "        url_list_len.append(cnt)\n",
    "        i += 1\n",
    "        \n",
    "        # control if api doesn't return anything new\n",
    "        if set(url_list_len[-10:]) == 1:\n",
    "            break\n",
    "        \n",
    "    else:\n",
    "        break"
   ]
  }
 ],
 "metadata": {
  "kernelspec": {
   "display_name": "Python 3",
   "language": "python",
   "name": "python3"
  },
  "language_info": {
   "codemirror_mode": {
    "name": "ipython",
    "version": 3
   },
   "file_extension": ".py",
   "mimetype": "text/x-python",
   "name": "python",
   "nbconvert_exporter": "python",
   "pygments_lexer": "ipython3",
   "version": "3.7.4"
  }
 },
 "nbformat": 4,
 "nbformat_minor": 2
}
