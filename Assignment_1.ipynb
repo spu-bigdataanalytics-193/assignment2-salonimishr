{
 "cells": [
  {
   "cell_type": "markdown",
   "metadata": {},
   "source": [
    "# **Assignment 1 - Threading and Multiprocessing**\n",
    "\n",
    "In this project,I explored multithreading an multiprocessing difference. For that purpose, I helped imaginary colleage whose name is John, who asks for help to increase the speed of his process while downloading images from internet.\n",
    "\n",
    "John already has the code for serial-programming, however, he don't know concurrent programming and parallel programming! I helped John to succeed in his mission by using multithreading and multiprocessing logic to increase the speed of his task.\n",
    "\n",
    "He has two tasks:\n",
    "\n",
    "*Download images from internet\n",
    "\n",
    "*Resize them to 128x128 px."
   ]
  },
  {
   "cell_type": "markdown",
   "metadata": {},
   "source": [
    "# **Importing modules to use in programming**"
   ]
  },
  {
   "cell_type": "code",
   "execution_count": 16,
   "metadata": {},
   "outputs": [],
   "source": [
    "import import_ipynb\n",
    "import util\n",
    "import os"
   ]
  },
  {
   "cell_type": "markdown",
   "metadata": {},
   "source": [
    "# Creating global variables to define number of images and providing client id"
   ]
  },
  {
   "cell_type": "code",
   "execution_count": 17,
   "metadata": {},
   "outputs": [],
   "source": [
    "NUM_OF_IMAGES = 1000 # max requests can be done per day is 12500\n",
    "CLIENT_ID = util.get_imgur_client_id()\n",
    "IMAGES_DIR = util.create_download_dir()\n"
   ]
  },
  {
   "cell_type": "markdown",
   "metadata": {},
   "source": [
    "# 1. Downloading Images from Internet (Threading)\n",
    "\n",
    "In this section, I download some images from internet using John algorithm. "
   ]
  },
  {
   "cell_type": "code",
   "execution_count": 9,
   "metadata": {},
   "outputs": [
    {
     "name": "stdout",
     "output_type": "stream",
     "text": [
      "too many requests, enough, or you can choose to put time.sleep() in here...\n",
      "Wall time: 13min 57s\n"
     ]
    }
   ],
   "source": [
    "%%time\n",
    "\n",
    "image_links = util.build_link_list(CLIENT_ID, NUM_OF_IMAGES)\n",
    "\n",
    "for image_link in image_links:\n",
    "    util.download_image_from_url(image_link, IMAGES_DIR)"
   ]
  },
  {
   "cell_type": "markdown",
   "metadata": {},
   "source": [
    "# Multithreading (helping in John's Task)\n",
    "\n",
    "In this section, I am using multithreading to see if I can reduce time for John's task."
   ]
  },
  {
   "cell_type": "code",
   "execution_count": 19,
   "metadata": {},
   "outputs": [
    {
     "name": "stdout",
     "output_type": "stream",
     "text": [
      "too many requests, enough, or you can choose to put time.sleep() in here...\n",
      "Wall time: 2min 29s\n"
     ]
    }
   ],
   "source": [
    "%%time\n",
    "\n",
    "import threading\n",
    "\n",
    "image_links = util.build_link_list(CLIENT_ID, NUM_OF_IMAGES)\n",
    "\n",
    "def worker():\n",
    "    for image_link in image_links:\n",
    "        util.download_image_from_url(image_link, IMAGES_DIR)\n",
    "    \n",
    "threads = []\n",
    "for i in range(10):\n",
    "    t = threading.Thread(target=worker)\n",
    "    threads.append(t)\n",
    "    t.start()"
   ]
  },
  {
   "cell_type": "markdown",
   "metadata": {},
   "source": [
    "# Resizing images after using multithreading "
   ]
  },
  {
   "cell_type": "code",
   "execution_count": 20,
   "metadata": {},
   "outputs": [
    {
     "name": "stdout",
     "output_type": "stream",
     "text": [
      "Wall time: 10.1 s\n"
     ]
    }
   ],
   "source": [
    "%%time\n",
    "\n",
    "# PS: time for 845 images : 10.1 s\n",
    "\n",
    "image_path_list = os.listdir('images')\n",
    "\n",
    "for image_path in image_path_list:\n",
    "    util.create_thumbnail((128, 128), os.path.join('images', image_path))"
   ]
  },
  {
   "cell_type": "markdown",
   "metadata": {},
   "source": [
    "# Multiprocessing (Helping in John's task)"
   ]
  },
  {
   "cell_type": "code",
   "execution_count": 25,
   "metadata": {},
   "outputs": [
    {
     "name": "stdout",
     "output_type": "stream",
     "text": [
      "Wall time: 5.42 s\n"
     ]
    }
   ],
   "source": [
    "%%time\n",
    "import multiprocessing\n",
    "#from multiprocessing import Pool\n",
    "# from multiprocessing import Pool\n",
    "\n",
    "pool_size = 10  # your \"parallelness\"\n",
    "\n",
    "# define worker function before a Pool is instantiated\n",
    "\n",
    "\n",
    "pool = multiprocessing.Pool(pool_size)\n",
    "\n",
    "image_path_list = os.listdir('images')\n",
    "\n",
    "for image_path in image_path_list:\n",
    "    pool.apply_async(util.create_thumbnail((128, 128), os.path.join('images', image_path)))\n",
    "    \n"
   ]
  },
  {
   "cell_type": "markdown",
   "metadata": {},
   "source": [
    "# **Conclusion**\n",
    "\n",
    "John's burden of downloading and resize was reduced by using multiple threading and multipleprocessing respectively."
   ]
  },
  {
   "cell_type": "code",
   "execution_count": 31,
   "metadata": {},
   "outputs": [
    {
     "name": "stdout",
     "output_type": "stream",
     "text": [
      "+----+--------------------------------------+-------------+\n",
      "|    | Description                          | Wall time   |\n",
      "|----+--------------------------------------+-------------|\n",
      "|  0 | Download images by John              | 13min 57sec |\n",
      "|  1 | Download images using Multithreading | 2min 29sec  |\n",
      "|  2 | Resize Image John's code             | 10.1sec     |\n",
      "|  3 | Multiprocessing                      | 5.42sec     |\n",
      "+----+--------------------------------------+-------------+\n"
     ]
    }
   ],
   "source": [
    "from tabulate import tabulate\n",
    "print(tabulate({\"Description\": [\"Download images by John\", \"Download images using Multithreading\",\n",
    "                                \"Resize Image John's code\", \"Multiprocessing\"],\n",
    "             \"Wall time\": [\"13min 57sec\",\"2min 29sec\",\"10.1sec\", \"5.42sec\"]},\n",
    "               headers=\"keys\", showindex=\"always\", tablefmt=\"psql\"))"
   ]
  }
 ],
 "metadata": {
  "kernelspec": {
   "display_name": "Python 3",
   "language": "python",
   "name": "python3"
  },
  "language_info": {
   "codemirror_mode": {
    "name": "ipython",
    "version": 3
   },
   "file_extension": ".py",
   "mimetype": "text/x-python",
   "name": "python",
   "nbconvert_exporter": "python",
   "pygments_lexer": "ipython3",
   "version": "3.6.8"
  }
 },
 "nbformat": 4,
 "nbformat_minor": 2
}
